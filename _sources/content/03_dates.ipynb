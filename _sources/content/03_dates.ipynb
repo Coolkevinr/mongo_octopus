{
 "cells": [
  {
   "cell_type": "markdown",
   "id": "598c17b1",
   "metadata": {},
   "source": [
    "# Attributs de type date\n",
    "\n",
    "* Auteurs/trices : HAMELIN Marine, ABOULKACEM Zakaria, RALIN Kévin, GARY Gaston\n",
    "\n",
    "Ce chapitre traite des attributs de type dates (et sous-cas des listes de dates) et des différents types de requêtes que l'on peut vouloir faire sur de tels attributs\n",
    "Le fichier que vous devez modifier pour ce chapitre est `mongo_book/content/03_dates.md`.*\n",
    "\n",
    "\n",
    "## Exemples d'applications\n",
    "Utilisation d'un objet date au format string.\n",
    "\n",
    "Exemple d'une requête simple. On veut récupérer la liste des individus dont l'attribut date est supérieur à une date créée.\n",
    "```javascript\n",
    "madate = \"<YYYY-mm-dd>\"\n",
    "db.coll.find({\"varDateString\" : {$gt : madate}})\n",
    "```\n",
    "Utilisation d'un objet date au format Date.\n",
    "\n",
    "Exemple d'une requête simple dans la db `food`. On veut récupérer la liste des restaurants dont la date de la note est supérieure à une date créée."
   ]
  },
  {
   "cell_type": "code",
   "execution_count": 1,
   "id": "42b096d5",
   "metadata": {},
   "outputs": [
    {
     "data": {
      "text/plain": [
       "switched to db food"
      ]
     },
     "execution_count": 1,
     "metadata": {},
     "output_type": "execute_result"
    }
   ],
   "source": [
    "use food"
   ]
  },
  {
   "cell_type": "code",
   "execution_count": 2,
   "id": "77123891",
   "metadata": {},
   "outputs": [
    {
     "data": {
      "text/plain": [
       "uncaught exception: SyntaxError: unexpected token: identifier :\r\n",
       "@(shell):1:32"
      ]
     },
     "execution_count": 2,
     "metadata": {},
     "output_type": "execute_result"
    }
   ],
   "source": [
    "madate = new Date(\"2013-11-12\")\n",
    "db.NYfood.find({\"grades.date\": {$gt : madate}})"
   ]
  }
 ],
 "metadata": {
  "jupytext": {
   "cell_metadata_filter": "-all",
   "formats": "md:myst",
   "text_representation": {
    "extension": ".md",
    "format_name": "myst",
    "format_version": 0.12,
    "jupytext_version": "1.9.1"
   }
  },
  "kernelspec": {
   "display_name": "IMongo",
   "language": "",
   "name": "imongo"
  },
  "language_info": {
   "codemirror_mode": "shell",
   "file_extension": ".js",
   "mimetype": "text/x-mongodb",
   "name": "javascript"
  },
  "source_map": [
   14,
   35,
   39
  ]
 },
 "nbformat": 4,
 "nbformat_minor": 5
}